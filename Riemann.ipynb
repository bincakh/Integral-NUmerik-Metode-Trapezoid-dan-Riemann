{
  "nbformat": 4,
  "nbformat_minor": 0,
  "metadata": {
    "colab": {
      "provenance": []
    },
    "kernelspec": {
      "name": "python3",
      "display_name": "Python 3"
    },
    "language_info": {
      "name": "python"
    }
  },
  "cells": [
    {
      "cell_type": "code",
      "execution_count": null,
      "metadata": {
        "id": "V4hhsCsw7hIB"
      },
      "outputs": [],
      "source": [
        "import numpy as p\n",
        "import matplotlib.pyplot as plt\n",
        "\n",
        "def func(x):\n",
        "    return (x**2)*p.exp(-x)\n",
        "a = float(input('Batas bawah(a) = '))   #a = 1.0\n",
        "b = float(input('Batas atas (b) = '))   #b = 10.0\n",
        "n = int (input('Jumlah grid (n) = '))   #n = divariasikan dimulai dari 10, 100, 1000\n",
        "\n",
        "#reiman\n",
        "x = p.linspace(a,b,n)\n",
        "dx = (x[-1]-x[0])/(n-1)\n",
        "\n",
        "hasil = 0\n",
        "\n",
        "for i in range (n-1):\n",
        "    hasil += dx*func(x[i])\n",
        "print('Hasil = ', hasil)\n",
        "\n",
        "xp = p.linspace(a,b)\n",
        "plt.plot(xp,func(xp))\n",
        "for i in range(n-1):\n",
        "    plt.bar(x[i],func(x[i]), align = 'edge',width=dx, color='red',edgecolor='black')\n",
        "plt.show()"
      ]
    }
  ]
}